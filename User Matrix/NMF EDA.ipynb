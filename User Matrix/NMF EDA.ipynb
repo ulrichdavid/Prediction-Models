{
 "cells": [
  {
   "cell_type": "code",
   "execution_count": 128,
   "metadata": {
    "collapsed": true
   },
   "outputs": [],
   "source": [
    "import pandas as pd\n",
    "import numpy as np\n",
    "from sklearn.decomposition import NMF , ProjectedGradientNMF\n",
    "\n",
    "iab_matrix = pd.read_csv('D:\\\\Kargo\\\\Kargo\\\\User Matrix\\\\match_matrix_10k.csv')"
   ]
  },
  {
   "cell_type": "code",
   "execution_count": 148,
   "metadata": {
    "collapsed": false
   },
   "outputs": [],
   "source": [
    "# NMF only takes values, so need to drop the kargo_id column\n",
    "iab_values = iab_matrix.drop('KARGO_ID',1).as_matrix()\n",
    "\n",
    "# Grab first column\n",
    "kargo_ids = iab_matrix.ix[:,0]"
   ]
  },
  {
   "cell_type": "code",
   "execution_count": 130,
   "metadata": {
    "collapsed": true
   },
   "outputs": [],
   "source": [
    "# Assign our R-feature matrix and perform NMF\n",
    "R = iab_values\n",
    "nmf = NMF()\n",
    "W = nmf.fit_transform(R)\n",
    "H = nmf.components_\n",
    "nR = np.dot(W,H)"
   ]
  },
  {
   "cell_type": "code",
   "execution_count": 131,
   "metadata": {
    "collapsed": false
   },
   "outputs": [
    {
     "name": "stdout",
     "output_type": "stream",
     "text": [
      "[[  0.00000000e+00   9.82540824e-21   2.19851246e-07 ...,   9.86715485e-06\n",
      "    2.45174103e-14   9.99134022e-24]\n",
      " [  0.00000000e+00   2.80526601e-06   0.00000000e+00 ...,   0.00000000e+00\n",
      "    7.00000001e+00   2.85264148e-09]\n",
      " [  0.00000000e+00   0.00000000e+00   4.00000002e+00 ...,   0.00000000e+00\n",
      "    1.92981123e-09   0.00000000e+00]\n",
      " ..., \n",
      " [  0.00000000e+00   2.39707207e-20   1.05342081e-06 ...,   2.40725667e-05\n",
      "    5.98143080e-14   2.43755394e-23]\n",
      " [  0.00000000e+00   1.50943237e-21   4.80010587e-15 ...,   1.51584537e-06\n",
      "    3.76649721e-15   1.53492374e-24]\n",
      " [  0.00000000e+00   1.30084279e-25   5.01134270e-15 ...,   1.28283642e-10\n",
      "    3.24600217e-19   1.32281149e-28]]\n"
     ]
    }
   ],
   "source": [
    "# Print our \"recommendation\" matrix\n",
    "print(nR)"
   ]
  },
  {
   "cell_type": "code",
   "execution_count": 150,
   "metadata": {
    "collapsed": false
   },
   "outputs": [],
   "source": [
    "# Add predicted values to original template\n",
    "merged = pd.DataFrame(data=nR, index=kargo_ids,columns=nR[0,0:])\n",
    "merged.columns = list(iab_matrix)[1:]"
   ]
  },
  {
   "cell_type": "code",
   "execution_count": 149,
   "metadata": {
    "collapsed": false
   },
   "outputs": [
    {
     "name": "stdout",
     "output_type": "stream",
     "text": [
      "0       223c26c3-83b4-45c8-825c-49ef8034a4ba\n",
      "1       3a6dad96-0fac-478d-86ba-8273a520b80b\n",
      "2       ee0f400a-253b-4f3f-b717-7c95749467a3\n",
      "3       52964da7-ec6f-4b45-aaef-5ac068ee2d84\n",
      "4       33588ba3-2f11-4d1c-8bab-351237ec12ef\n",
      "5       fa990ece-fdbd-43b4-941b-b1e1fc4f2f93\n",
      "6       9fa3cdc0-5a71-47e1-b169-8604c5f0f31e\n",
      "7       e57b155d-c90d-4679-b3fb-3096dc9b6fe9\n",
      "8       e67b5ed5-4e75-40a7-aab7-8390a975309d\n",
      "9       ab8fbf20-0e9c-4804-bf0e-9b0833d73243\n",
      "10      f60b85f1-96ed-43a4-8d93-e59a1791b7bc\n",
      "11      e3c06f30-0225-4afa-a6bd-be506f3c9b2f\n",
      "12      3df6aa89-8ec0-4d05-861d-7af8cb34e370\n",
      "13      0030c871-3e40-4214-8ea6-c133c7c27c7c\n",
      "14      cf558573-6ba9-43c1-978b-3b9737a17b9b\n",
      "15      bbe78266-214f-425d-8898-7ec9b36bf6be\n",
      "16      9e1b2f2e-5ff8-486b-a034-a58c199d101e\n",
      "17      cf64985f-e513-4fc6-ba5e-9545d4178511\n",
      "18      959e8d85-0763-4026-9426-4c9abcd2eb3b\n",
      "19      c0718ad5-7f9d-4ba4-9545-80b1c5282559\n",
      "20      54df1f8b-2730-46fd-af16-76cd31c57ed3\n",
      "21      0e1bc127-a189-4595-b5ea-33057899aa69\n",
      "22      a3aa8c1b-d3b8-4c94-9e16-e97ea0b53119\n",
      "23      73ed063d-143e-4f0d-87ea-3c095c1a38aa\n",
      "24      ec6ecb32-0301-46e0-aaec-15529dd0bc44\n",
      "25      97099c11-5047-4e1a-8359-177553f3a2fc\n",
      "26      6a1afb9b-f584-408f-995c-2cec4ed585ed\n",
      "27      8acb5a81-cb1e-4868-b022-e75543f73911\n",
      "28      920d2d45-275e-4a20-9a59-cd86bd6199ad\n",
      "29      e998af05-299d-46d6-b765-c880615df6ff\n",
      "                        ...                 \n",
      "9970    e8c229c2-508f-4809-8250-69e8800e6fe0\n",
      "9971    197e9e8d-b661-4204-98ea-f35fbb68ecdb\n",
      "9972    37109737-957d-430c-b050-fe8ca33c1be6\n",
      "9973    be249ea8-d484-44e0-ad19-d44cd9ce77cf\n",
      "9974    5ab199b8-ecb2-44bc-bf14-89bcc76f62cf\n",
      "9975    dffe6b16-2247-4783-b58d-1e92371e42bd\n",
      "9976    21629e9d-5512-4ebd-88c8-8695321bb7c4\n",
      "9977    eb5ee9ca-befe-489f-9784-138c554f059a\n",
      "9978    9d727aaa-5e87-43fb-979d-03c9749f53bd\n",
      "9979    3c5e96b8-ceb5-4a25-ba05-f248709d49e9\n",
      "9980    2e299758-cd23-4955-bf72-08804bf33f98\n",
      "9981    806849d5-d2e3-49f0-8ad0-88fe50816f1c\n",
      "9982    aa7e9ae0-4c8c-4aff-88f6-20a53353fb9e\n",
      "9983    8df97e45-8bad-4a13-85b7-db4b40f0adff\n",
      "9984    f1be3fd6-5ccf-489b-8c09-88593f5ffdfe\n",
      "9985    97705e4d-995b-42ef-b4be-d04ca9e31229\n",
      "9986    36ee6109-66f9-4496-8063-62965e99a136\n",
      "9987    16f06a16-4674-4c05-bb8e-3bad5fb731fc\n",
      "9988    e4bbe620-2a1e-440b-a1fb-4d1955837ef1\n",
      "9989    ba6b69e3-ec69-4a26-8c40-c5f6396643ed\n",
      "9990    66324182-0252-45a4-88d1-86fbc7ade43f\n",
      "9991    7c5d29cc-d951-4f66-8d4f-4d9466fbd299\n",
      "9992    f0b785de-9d19-45d7-b986-0da79785d5fb\n",
      "9993    b42b58cb-fe9b-4ae2-b8a0-dcdb963c2266\n",
      "9994    1a3bec9d-b8a6-48e9-b9f1-3d5fa57cbe80\n",
      "9995    9b1978a5-4314-45ff-8072-c88c9be97315\n",
      "9996    6eb0d431-b537-4a92-8508-c603df754f82\n",
      "9997    2fdd27ff-3135-43d0-9f58-4d084f5aa250\n",
      "9998    60900bd5-5973-4c56-b651-eadf5785e811\n",
      "9999    bfe5dbd4-1ecc-475d-a2fe-ba8955417843\n",
      "Name: KARGO_ID, dtype: object\n"
     ]
    }
   ],
   "source": [
    "print(kargo_ids)"
   ]
  },
  {
   "cell_type": "code",
   "execution_count": 151,
   "metadata": {
    "collapsed": false
   },
   "outputs": [],
   "source": [
    "merged.to_csv(\"10k_sample_nmf.csv\")"
   ]
  }
 ],
 "metadata": {
  "anaconda-cloud": {},
  "kernelspec": {
   "display_name": "Python [conda root]",
   "language": "python",
   "name": "conda-root-py"
  },
  "language_info": {
   "codemirror_mode": {
    "name": "ipython",
    "version": 3
   },
   "file_extension": ".py",
   "mimetype": "text/x-python",
   "name": "python",
   "nbconvert_exporter": "python",
   "pygments_lexer": "ipython3",
   "version": "3.5.2"
  }
 },
 "nbformat": 4,
 "nbformat_minor": 2
}
